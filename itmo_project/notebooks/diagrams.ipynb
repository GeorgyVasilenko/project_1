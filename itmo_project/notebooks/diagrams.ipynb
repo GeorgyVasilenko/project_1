# Здесь будет ваш основной исследовательский ноутбук
import matplotlib.pyplot as plt
import seaborn as sns
import plotly.express as px

def plot_girls_distribution(df):
    plt.figure(figsize=(14, 6))
    sns.histplot(data=df, x='girls_count', bins=20, kde=True)
    plt.title('Распределение количества девушек в клипах')
    plt.savefig('../dashboard/assets/girls_dist.png')  # для дэшборда

def plot_yearly_trends(df):
    # ... (ваш код визуализации)
    plt.savefig('../dashboard/assets/yearly_trends.png')

from scripts.data_generation import generate_mock_data
from scripts.visualization import plot_girls_distribution, plot_yearly_trends

# Основной анализ
df = generate_mock_data(120)
plot_girls_distribution(df)
plot_yearly_trends(df)
