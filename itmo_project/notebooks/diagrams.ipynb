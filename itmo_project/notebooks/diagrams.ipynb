# Здесь будет ваш основной исследовательский ноутбук
# Импортируем функции из scripts/
from scripts.data_generation import generate_mock_data
from scripts.visualization import plot_girls_distribution, plot_yearly_trends

# Основной анализ
df = generate_mock_data(120)
plot_girls_distribution(df)
plot_yearly_trends(df)
